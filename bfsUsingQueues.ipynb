{
  "nbformat": 4,
  "nbformat_minor": 0,
  "metadata": {
    "colab": {
      "provenance": []
    },
    "kernelspec": {
      "name": "python3",
      "display_name": "Python 3"
    },
    "language_info": {
      "name": "python"
    }
  },
  "cells": [
    {
      "cell_type": "code",
      "execution_count": 3,
      "metadata": {
        "colab": {
          "base_uri": "https://localhost:8080/"
        },
        "id": "6HkVTGT79xrS",
        "outputId": "1e9db4b1-e25f-471a-e42f-41a597faceb1"
      },
      "outputs": [
        {
          "output_type": "stream",
          "name": "stdout",
          "text": [
            "BFS traversal order(using queue): \n",
            "A B C D E F "
          ]
        }
      ],
      "source": [
        "graph = {\n",
        "    'A':['B','C'],\n",
        "    'B':['D','E'],\n",
        "    'C':['F'],\n",
        "    'D':[],\n",
        "    'E':[],\n",
        "    'F':[]\n",
        "}\n",
        "\n",
        "def bfs(graph, start_node):\n",
        "  queue=[start_node];\n",
        "  visited=set() # set() -> unordered collection of unique elements\n",
        "  while queue: # loop until stack is empty\n",
        "    current_node = queue.pop(0)\n",
        "    if current_node not in visited:\n",
        "      print(current_node, end=' ')\n",
        "      visited.add(current_node)\n",
        "      for neighbor in graph[current_node]:\n",
        "        if neighbor not in visited:\n",
        "          queue.append(neighbor)\n",
        "\n",
        "print(\"BFS traversal order(using queue): \")\n",
        "bfs(graph,'A')"
      ]
    }
  ]
}